{
 "cells": [
  {
   "cell_type": "code",
   "execution_count": 5,
   "id": "8e7f9da1",
   "metadata": {},
   "outputs": [],
   "source": [
    "import joblib\n",
    "\n",
    "model_test = joblib.load('./model.pkl')\n",
    "\n",
    "def predict(model, dataset):\n",
    "\n",
    "    vectorizer, classifier = model\n",
    "    vector = vectorizer.transform(dataset)\n",
    "    pred = classifier.predict(vector)\n",
    "    return pred\n",
    "\n",
    "def result(test_ww):\n",
    "    pred1 = predict(model_test, test_ww)\n",
    "    if pred1 == 1:\n",
    "        print('Taste of Republican')\n",
    "    else:\n",
    "        print('Taste of Democratic')"
   ]
  },
  {
   "cell_type": "code",
   "execution_count": 14,
   "id": "3a279666",
   "metadata": {},
   "outputs": [
    {
     "name": "stdout",
     "output_type": "stream",
     "text": [
      "Taste of Republican\n"
     ]
    }
   ],
   "source": [
    "# Enter any Sentences you want to Predict below\n",
    "ww = ['''\n",
    "\n",
    "\n",
    "\n",
    "\n",
    "\n",
    "\n",
    "\n",
    "\n",
    "\n",
    "''']\n",
    "\n",
    "result(ww)"
   ]
  }
 ],
 "metadata": {
  "kernelspec": {
   "display_name": "DA",
   "language": "python",
   "name": "da"
  },
  "language_info": {
   "codemirror_mode": {
    "name": "ipython",
    "version": 3
   },
   "file_extension": ".py",
   "mimetype": "text/x-python",
   "name": "python",
   "nbconvert_exporter": "python",
   "pygments_lexer": "ipython3",
   "version": "3.9.12"
  }
 },
 "nbformat": 4,
 "nbformat_minor": 5
}
