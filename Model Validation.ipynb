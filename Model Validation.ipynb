{
 "cells": [
  {
   "cell_type": "code",
   "execution_count": 1,
   "id": "a7e616d8",
   "metadata": {},
   "outputs": [],
   "source": [
    "import numpy as np\n",
    "import pandas as pd\n",
    "import matplotlib.pyplot as plt\n",
    "from sklearn import (datasets, feature_extraction, linear_model, metrics)\n",
    "from sklearn.naive_bayes import ComplementNB\n",
    "from sklearn.svm import SVC\n",
    "\n",
    "import re\n",
    "\n",
    "import os\n",
    "\n",
    "def train(dataset, target):\n",
    "\n",
    "    vectorizer = feature_extraction.text.TfidfVectorizer(max_df=0.2)\n",
    "    vector = vectorizer.fit_transform(dataset)\n",
    "    classifier = SVC()\n",
    "    classifier.fit(vector, target)\n",
    "    return (vectorizer, classifier)\n",
    "\n",
    "def predict(model, dataset):\n",
    "\n",
    "    vectorizer, classifier = model\n",
    "    vector = vectorizer.transform(dataset)\n",
    "    pred = classifier.predict(vector)\n",
    "    return pred"
   ]
  },
  {
   "cell_type": "code",
   "execution_count": 2,
   "id": "c1474097",
   "metadata": {},
   "outputs": [
    {
     "name": "stdout",
     "output_type": "stream",
     "text": [
      "### My results\n",
      "* My accuracy: 0.906\n"
     ]
    }
   ],
   "source": [
    "from sklearn.model_selection import train_test_split\n",
    "import pickle\n",
    "\n",
    "\n",
    "with open('content_lst.txt', 'rb') as f:\n",
    "    data = pickle.load(f)\n",
    "with open('party_lst.txt', 'rb') as f:\n",
    "    target = pickle.load(f)\n",
    "\n",
    "x_train, x_valid, y_train, y_valid = train_test_split(data, target, test_size=0.2, shuffle=True, stratify=target, random_state=42)\n",
    "\n",
    "model = train(x_train, y_train)\n",
    "pred = predict(model, x_valid)\n",
    "accuracy = metrics.balanced_accuracy_score(y_valid, pred)\n",
    "\n",
    "print('### My results')\n",
    "print(f'* My accuracy: {accuracy:.3}') # 0.906"
   ]
  },
  {
   "cell_type": "code",
   "execution_count": 3,
   "id": "bcd12689",
   "metadata": {},
   "outputs": [
    {
     "data": {
      "text/plain": [
       "0.7923334338240147"
      ]
     },
     "execution_count": 3,
     "metadata": {},
     "output_type": "execute_result"
    }
   ],
   "source": [
    "from sklearn.model_selection import cross_val_score\n",
    "\n",
    "vectorizer = feature_extraction.text.TfidfVectorizer(max_df=0.2)\n",
    "X = vectorizer.fit_transform(data)\n",
    "y = target\n",
    "classifier = SVC()\n",
    "cval = cross_val_score(classifier,X,y,cv=10, scoring='balanced_accuracy')\n",
    "cval.mean()"
   ]
  },
  {
   "cell_type": "code",
   "execution_count": null,
   "id": "8c2a5999",
   "metadata": {},
   "outputs": [],
   "source": []
  }
 ],
 "metadata": {
  "kernelspec": {
   "display_name": "DA",
   "language": "python",
   "name": "da"
  },
  "language_info": {
   "codemirror_mode": {
    "name": "ipython",
    "version": 3
   },
   "file_extension": ".py",
   "mimetype": "text/x-python",
   "name": "python",
   "nbconvert_exporter": "python",
   "pygments_lexer": "ipython3",
   "version": "3.9.12"
  }
 },
 "nbformat": 4,
 "nbformat_minor": 5
}
