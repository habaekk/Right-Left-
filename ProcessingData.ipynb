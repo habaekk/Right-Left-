{
 "cells": [
  {
   "cell_type": "markdown",
   "id": "6cb77acc",
   "metadata": {},
   "source": [
    "# Web Crawling"
   ]
  },
  {
   "cell_type": "code",
   "execution_count": null,
   "id": "71e44086",
   "metadata": {},
   "outputs": [],
   "source": [
    "# 0: Democratic, 1: Republican\n",
    "president_party = {'Joseph R. Biden': 0,\n",
    "                   'Donald J. Trump': 1,\n",
    "                   'Barack Obama': 0,\n",
    "                   'George W. Bush': 1,\n",
    "                   'William J. Clinton': 0,\n",
    "                   'George Bush': 1,\n",
    "                   'Ronald Reagan': 1,\n",
    "                   'Jimmy Carter': 0,\n",
    "                   'Gerald R. Ford': 1,\n",
    "                   'Richard Nixon': 1,\n",
    "                   'Lyndon B. Johnson': 0,\n",
    "                   'John F. Kennedy': 0,\n",
    "                   'Dwight D. Eisenhower': 1,\n",
    "                   'Harry S. Truman': 0,\n",
    "                   'Franklin D. Roosevelt': 0}"
   ]
  },
  {
   "cell_type": "code",
   "execution_count": null,
   "id": "01bbfdbe",
   "metadata": {},
   "outputs": [],
   "source": [
    "#################### WARNNING ############################\n",
    "###############DATA CAN BE OVERWRITTEN####################\n",
    "\n",
    "# title_lst = []\n",
    "# ref_lst = []\n",
    "# president_lst = []"
   ]
  },
  {
   "cell_type": "code",
   "execution_count": 18,
   "id": "1a4232e4",
   "metadata": {
    "scrolled": false
   },
   "outputs": [
    {
     "data": {
      "application/vnd.jupyter.widget-view+json": {
       "model_id": "aa4f9699cb07440f8248f4c6fef9e056",
       "version_major": 2,
       "version_minor": 0
      },
      "text/plain": [
       "  0%|          | 0/6904 [00:00<?, ?it/s]"
      ]
     },
     "metadata": {},
     "output_type": "display_data"
    }
   ],
   "source": [
    "from urllib.request import urlopen\n",
    "from bs4 import BeautifulSoup\n",
    "import time\n",
    "import pickle\n",
    "from tqdm import notebook\n",
    "\n",
    "president_party = {'Joseph R. Biden': 0,\n",
    "                   'Donald J. Trump': 1,\n",
    "                   'Barack Obama': 0,\n",
    "                   'George W. Bush': 1,\n",
    "                   'William J. Clinton': 0,\n",
    "                   'George Bush': 1,\n",
    "                   'Ronald Reagan': 1,\n",
    "                   'Jimmy Carter': 0,\n",
    "                   'Gerald R. Ford': 1,\n",
    "                   'Richard Nixon': 1,\n",
    "                   'Lyndon B. Johnson': 0,\n",
    "                   'John F. Kennedy': 0,\n",
    "                   'Dwight D. Eisenhower': 1,\n",
    "                   'Harry S. Truman': 0,\n",
    "                   'Franklin D. Roosevelt': 0}\n",
    "\n",
    "# 6904\n",
    "for i in notebook.tqdm(range(6904)):\n",
    "    if i == 0:\n",
    "        html = urlopen(\"https://www.presidency.ucsb.edu/documents/app-categories/presidential\")\n",
    "    else:\n",
    "        html = urlopen(\"https://www.presidency.ucsb.edu/documents/app-categories/presidential?page=\"+str(i))\n",
    "    time.sleep(0.1)\n",
    "        \n",
    "    bsObject = BeautifulSoup(html, \"html.parser\")\n",
    "    # print(row.find(\"div\", {\"class\": \"field-title\"}).find(\"p\").text)\n",
    "    for a in bsObject.body.find_all(\"div\", {\"class\": \"field-title\"}):\n",
    "        title = a.find(\"p\").text\n",
    "        title_lst.append(title)\n",
    "        ref = a.find(\"p\").find(\"a\").get('href')\n",
    "        ref_lst.append(ref)\n",
    "        \n",
    "    for b in bsObject.body.find_all(\"div\", {\"class\": \"col-sm-4 margin-top\"}):\n",
    "        president = b.find(\"p\").text\n",
    "        if president not in president_party.keys():\n",
    "            continue\n",
    "        else:\n",
    "            president_lst.append(b.find(\"p\").text)\n",
    "        "
   ]
  },
  {
   "cell_type": "code",
   "execution_count": 159,
   "id": "814a9c62",
   "metadata": {},
   "outputs": [],
   "source": [
    "#################### WARNNING ############################\n",
    "###############FILE CAN BE OVERWRITTEN####################\n",
    "\n",
    "# import pickle\n",
    "# with open('title_lst.txt', 'wb') as f:\n",
    "#     pickle.dump(title_lst, f)\n",
    "# with open('president_lst.txt', 'wb') as f:\n",
    "#     pickle.dump(president_lst, f)\n",
    "# with open('ref_lst.txt', 'wb') as f:\n",
    "#     pickle.dump(ref_lst, f)"
   ]
  },
  {
   "cell_type": "code",
   "execution_count": 3,
   "id": "51a30c56",
   "metadata": {},
   "outputs": [],
   "source": [
    "import pickle\n",
    "with open('title_lst.txt', 'rb') as f:\n",
    "    title_lst = pickle.load(f)\n",
    "with open('president_lst.txt', 'rb') as f:\n",
    "    president_lst = pickle.load(f)\n",
    "with open('ref_lst.txt', 'rb') as f:\n",
    "    ref_lst = pickle.load(f)"
   ]
  },
  {
   "cell_type": "code",
   "execution_count": 4,
   "id": "3a470699",
   "metadata": {},
   "outputs": [
    {
     "name": "stdout",
     "output_type": "stream",
     "text": [
      "69003\n",
      "69003\n",
      "69003\n"
     ]
    }
   ],
   "source": [
    "print(len(title_lst))\n",
    "print(len(president_lst))\n",
    "print(len(ref_lst))"
   ]
  },
  {
   "cell_type": "code",
   "execution_count": 22,
   "id": "5618a4ba",
   "metadata": {
    "scrolled": false
   },
   "outputs": [
    {
     "data": {
      "application/vnd.jupyter.widget-view+json": {
       "model_id": "812466bbbfa545e1bc42adcf58516628",
       "version_major": 2,
       "version_minor": 0
      },
      "text/plain": [
       "  0%|          | 0/15 [00:00<?, ?it/s]"
      ]
     },
     "metadata": {},
     "output_type": "display_data"
    },
    {
     "data": {
      "application/vnd.jupyter.widget-view+json": {
       "model_id": "ea770b30728a43939a0b612a07cdce82",
       "version_major": 2,
       "version_minor": 0
      },
      "text/plain": [
       "  0%|          | 0/800 [00:00<?, ?it/s]"
      ]
     },
     "metadata": {},
     "output_type": "display_data"
    },
    {
     "data": {
      "application/vnd.jupyter.widget-view+json": {
       "model_id": "4ff44d40c15044b9b70fd5e25340d2e7",
       "version_major": 2,
       "version_minor": 0
      },
      "text/plain": [
       "  0%|          | 0/800 [00:00<?, ?it/s]"
      ]
     },
     "metadata": {},
     "output_type": "display_data"
    },
    {
     "data": {
      "application/vnd.jupyter.widget-view+json": {
       "model_id": "8b86076c17ca4b5c9d191336620274b8",
       "version_major": 2,
       "version_minor": 0
      },
      "text/plain": [
       "  0%|          | 0/800 [00:00<?, ?it/s]"
      ]
     },
     "metadata": {},
     "output_type": "display_data"
    },
    {
     "data": {
      "application/vnd.jupyter.widget-view+json": {
       "model_id": "8d7d4b1cd0ca494486b28cd32f92198d",
       "version_major": 2,
       "version_minor": 0
      },
      "text/plain": [
       "  0%|          | 0/800 [00:00<?, ?it/s]"
      ]
     },
     "metadata": {},
     "output_type": "display_data"
    },
    {
     "data": {
      "application/vnd.jupyter.widget-view+json": {
       "model_id": "a0f40800028a44ec8011d70ead7f92f2",
       "version_major": 2,
       "version_minor": 0
      },
      "text/plain": [
       "  0%|          | 0/800 [00:00<?, ?it/s]"
      ]
     },
     "metadata": {},
     "output_type": "display_data"
    },
    {
     "data": {
      "application/vnd.jupyter.widget-view+json": {
       "model_id": "b8285690815b49e9a2815a36e30ef90d",
       "version_major": 2,
       "version_minor": 0
      },
      "text/plain": [
       "  0%|          | 0/800 [00:00<?, ?it/s]"
      ]
     },
     "metadata": {},
     "output_type": "display_data"
    },
    {
     "data": {
      "application/vnd.jupyter.widget-view+json": {
       "model_id": "fed7128942cb4848a1f52a85e5bffb75",
       "version_major": 2,
       "version_minor": 0
      },
      "text/plain": [
       "  0%|          | 0/800 [00:00<?, ?it/s]"
      ]
     },
     "metadata": {},
     "output_type": "display_data"
    },
    {
     "data": {
      "application/vnd.jupyter.widget-view+json": {
       "model_id": "ddc52ffeab47452da5cb19f3a3a06aa7",
       "version_major": 2,
       "version_minor": 0
      },
      "text/plain": [
       "  0%|          | 0/800 [00:00<?, ?it/s]"
      ]
     },
     "metadata": {},
     "output_type": "display_data"
    },
    {
     "data": {
      "application/vnd.jupyter.widget-view+json": {
       "model_id": "f0a6600085cd408a91e23fa39b44ce4e",
       "version_major": 2,
       "version_minor": 0
      },
      "text/plain": [
       "  0%|          | 0/800 [00:00<?, ?it/s]"
      ]
     },
     "metadata": {},
     "output_type": "display_data"
    },
    {
     "data": {
      "application/vnd.jupyter.widget-view+json": {
       "model_id": "7ceef187009f4af19d381f168afb5971",
       "version_major": 2,
       "version_minor": 0
      },
      "text/plain": [
       "  0%|          | 0/800 [00:00<?, ?it/s]"
      ]
     },
     "metadata": {},
     "output_type": "display_data"
    },
    {
     "data": {
      "application/vnd.jupyter.widget-view+json": {
       "model_id": "7c8de252b92d4dbda6f44e5fd3e112b0",
       "version_major": 2,
       "version_minor": 0
      },
      "text/plain": [
       "  0%|          | 0/800 [00:00<?, ?it/s]"
      ]
     },
     "metadata": {},
     "output_type": "display_data"
    },
    {
     "data": {
      "application/vnd.jupyter.widget-view+json": {
       "model_id": "31c55259aca64f77805c0ab5460d0c35",
       "version_major": 2,
       "version_minor": 0
      },
      "text/plain": [
       "  0%|          | 0/800 [00:00<?, ?it/s]"
      ]
     },
     "metadata": {},
     "output_type": "display_data"
    },
    {
     "data": {
      "application/vnd.jupyter.widget-view+json": {
       "model_id": "10ed278289b24b11a188c682bb4c2080",
       "version_major": 2,
       "version_minor": 0
      },
      "text/plain": [
       "  0%|          | 0/800 [00:00<?, ?it/s]"
      ]
     },
     "metadata": {},
     "output_type": "display_data"
    },
    {
     "data": {
      "application/vnd.jupyter.widget-view+json": {
       "model_id": "7e192f5bb828434e9db34918999087ab",
       "version_major": 2,
       "version_minor": 0
      },
      "text/plain": [
       "  0%|          | 0/800 [00:00<?, ?it/s]"
      ]
     },
     "metadata": {},
     "output_type": "display_data"
    },
    {
     "data": {
      "application/vnd.jupyter.widget-view+json": {
       "model_id": "0c17d413113f4d0799191b2ac8c80f8d",
       "version_major": 2,
       "version_minor": 0
      },
      "text/plain": [
       "  0%|          | 0/800 [00:00<?, ?it/s]"
      ]
     },
     "metadata": {},
     "output_type": "display_data"
    }
   ],
   "source": [
    "from urllib.request import urlopen\n",
    "from bs4 import BeautifulSoup\n",
    "import time\n",
    "import pickle\n",
    "import random\n",
    "from tqdm import notebook\n",
    "from multiprocessing import Pool\n",
    "\n",
    "content_lst = []\n",
    "party_lst = []\n",
    "content_len = 12000 # should be multiple of 15\n",
    "\n",
    "for key in notebook.tqdm(president_party.keys()):\n",
    "    idx = president_lst.index(key)\n",
    "    party = president_party[key] ### warning\n",
    "    for k in notebook.tqdm(range(idx, idx+(content_len//15))):\n",
    "        if president_lst[k] != key:\n",
    "            continue\n",
    "        addrss = \"https://www.presidency.ucsb.edu\" + ref_lst[k]\n",
    "        try:\n",
    "            html = urlopen(addrss)\n",
    "            time.sleep(1)\n",
    "            bsObject = BeautifulSoup(html, \"html.parser\")\n",
    "            content = bsObject.body.find(\"div\", {\"class\": \"field-docs-content\"})\n",
    "            tmp = ''\n",
    "            for c in content.find_all(\"p\"):\n",
    "                txt = c.text\n",
    "                tmp += ' ' + txt\n",
    "            party_lst.append(party)\n",
    "            content_lst.append(tmp)\n",
    "        except:\n",
    "            pass"
   ]
  },
  {
   "cell_type": "code",
   "execution_count": 25,
   "id": "2b421a4d",
   "metadata": {},
   "outputs": [],
   "source": [
    "#################### WARNNING ############################\n",
    "###############FILE CAN BE OVERWRITTEN####################\n",
    "\n",
    "# import pickle\n",
    "# with open('content_lst.txt', 'wb') as f:\n",
    "#     pickle.dump(content_lst, f)\n",
    "# with open('party_lst.txt', 'wb') as f:\n",
    "#     pickle.dump(party_lst, f)"
   ]
  },
  {
   "cell_type": "code",
   "execution_count": 26,
   "id": "0805e9f6",
   "metadata": {},
   "outputs": [
    {
     "name": "stdout",
     "output_type": "stream",
     "text": [
      "10327\n",
      "10327\n"
     ]
    }
   ],
   "source": [
    "print(len(content_lst))\n",
    "print(len(party_lst))"
   ]
  },
  {
   "cell_type": "code",
   "execution_count": 5,
   "id": "652bf734",
   "metadata": {},
   "outputs": [],
   "source": [
    "# print((president_lst))\n",
    "# print((ref_lst))\n",
    "# print((title_lst))"
   ]
  },
  {
   "cell_type": "code",
   "execution_count": null,
   "id": "0ebf0262",
   "metadata": {},
   "outputs": [],
   "source": []
  }
 ],
 "metadata": {
  "kernelspec": {
   "display_name": "DA",
   "language": "python",
   "name": "da"
  },
  "language_info": {
   "codemirror_mode": {
    "name": "ipython",
    "version": 3
   },
   "file_extension": ".py",
   "mimetype": "text/x-python",
   "name": "python",
   "nbconvert_exporter": "python",
   "pygments_lexer": "ipython3",
   "version": "3.9.12"
  }
 },
 "nbformat": 4,
 "nbformat_minor": 5
}
