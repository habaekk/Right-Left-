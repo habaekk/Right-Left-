{
 "cells": [
  {
   "cell_type": "code",
   "execution_count": 1,
   "id": "cb7417fa",
   "metadata": {},
   "outputs": [],
   "source": [
    "import numpy as np\n",
    "import pandas as pd\n",
    "import matplotlib.pyplot as plt\n",
    "from sklearn import (datasets, feature_extraction, linear_model, metrics)\n",
    "from sklearn.naive_bayes import ComplementNB\n",
    "from sklearn.svm import SVC\n",
    "\n",
    "import re\n",
    "\n",
    "import os\n",
    "\n",
    "def train(dataset, target):\n",
    "\n",
    "    vectorizer = feature_extraction.text.TfidfVectorizer(max_df=0.2)\n",
    "    vector = vectorizer.fit_transform(dataset)\n",
    "    classifier = SVC()\n",
    "    classifier.fit(vector, target)\n",
    "    return (vectorizer, classifier)\n",
    "\n",
    "def predict(model, dataset):\n",
    "\n",
    "    vectorizer, classifier = model\n",
    "    vector = vectorizer.transform(dataset)\n",
    "    pred = classifier.predict(vector)\n",
    "    return pred"
   ]
  },
  {
   "cell_type": "code",
   "execution_count": 2,
   "id": "4f57c0fd",
   "metadata": {},
   "outputs": [],
   "source": [
    "from sklearn.model_selection import train_test_split\n",
    "import pickle\n",
    "\n",
    "\n",
    "with open('content_lst.txt', 'rb') as f:\n",
    "    data = pickle.load(f)\n",
    "with open('party_lst.txt', 'rb') as f:\n",
    "    target = pickle.load(f)\n",
    "\n",
    "model = train(data, target)"
   ]
  },
  {
   "cell_type": "code",
   "execution_count": 3,
   "id": "c4e29510",
   "metadata": {},
   "outputs": [
    {
     "data": {
      "text/plain": [
       "['./model.pkl']"
      ]
     },
     "execution_count": 3,
     "metadata": {},
     "output_type": "execute_result"
    }
   ],
   "source": [
    "import joblib\n",
    "\n",
    "joblib.dump(model, './model.pkl')"
   ]
  },
  {
   "cell_type": "code",
   "execution_count": null,
   "id": "a60afc0c",
   "metadata": {},
   "outputs": [],
   "source": []
  }
 ],
 "metadata": {
  "kernelspec": {
   "display_name": "DA",
   "language": "python",
   "name": "da"
  },
  "language_info": {
   "codemirror_mode": {
    "name": "ipython",
    "version": 3
   },
   "file_extension": ".py",
   "mimetype": "text/x-python",
   "name": "python",
   "nbconvert_exporter": "python",
   "pygments_lexer": "ipython3",
   "version": "3.9.12"
  }
 },
 "nbformat": 4,
 "nbformat_minor": 5
}
